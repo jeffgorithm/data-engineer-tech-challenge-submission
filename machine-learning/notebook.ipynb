{
 "cells": [
  {
   "cell_type": "code",
   "execution_count": 1,
   "id": "fbdd9cbb",
   "metadata": {},
   "outputs": [
    {
     "data": {
      "text/html": [
       "<div>\n",
       "<style scoped>\n",
       "    .dataframe tbody tr th:only-of-type {\n",
       "        vertical-align: middle;\n",
       "    }\n",
       "\n",
       "    .dataframe tbody tr th {\n",
       "        vertical-align: top;\n",
       "    }\n",
       "\n",
       "    .dataframe thead th {\n",
       "        text-align: right;\n",
       "    }\n",
       "</style>\n",
       "<table border=\"1\" class=\"dataframe\">\n",
       "  <thead>\n",
       "    <tr style=\"text-align: right;\">\n",
       "      <th></th>\n",
       "      <th>buying</th>\n",
       "      <th>maint</th>\n",
       "      <th>doors</th>\n",
       "      <th>persons</th>\n",
       "      <th>lug_boot</th>\n",
       "      <th>safety</th>\n",
       "      <th>class</th>\n",
       "    </tr>\n",
       "  </thead>\n",
       "  <tbody>\n",
       "    <tr>\n",
       "      <th>0</th>\n",
       "      <td>vhigh</td>\n",
       "      <td>vhigh</td>\n",
       "      <td>2</td>\n",
       "      <td>2</td>\n",
       "      <td>small</td>\n",
       "      <td>low</td>\n",
       "      <td>unacc</td>\n",
       "    </tr>\n",
       "    <tr>\n",
       "      <th>1</th>\n",
       "      <td>vhigh</td>\n",
       "      <td>vhigh</td>\n",
       "      <td>2</td>\n",
       "      <td>2</td>\n",
       "      <td>small</td>\n",
       "      <td>med</td>\n",
       "      <td>unacc</td>\n",
       "    </tr>\n",
       "    <tr>\n",
       "      <th>2</th>\n",
       "      <td>vhigh</td>\n",
       "      <td>vhigh</td>\n",
       "      <td>2</td>\n",
       "      <td>2</td>\n",
       "      <td>small</td>\n",
       "      <td>high</td>\n",
       "      <td>unacc</td>\n",
       "    </tr>\n",
       "    <tr>\n",
       "      <th>3</th>\n",
       "      <td>vhigh</td>\n",
       "      <td>vhigh</td>\n",
       "      <td>2</td>\n",
       "      <td>2</td>\n",
       "      <td>med</td>\n",
       "      <td>low</td>\n",
       "      <td>unacc</td>\n",
       "    </tr>\n",
       "    <tr>\n",
       "      <th>4</th>\n",
       "      <td>vhigh</td>\n",
       "      <td>vhigh</td>\n",
       "      <td>2</td>\n",
       "      <td>2</td>\n",
       "      <td>med</td>\n",
       "      <td>med</td>\n",
       "      <td>unacc</td>\n",
       "    </tr>\n",
       "  </tbody>\n",
       "</table>\n",
       "</div>"
      ],
      "text/plain": [
       "  buying  maint doors persons lug_boot safety  class\n",
       "0  vhigh  vhigh     2       2    small    low  unacc\n",
       "1  vhigh  vhigh     2       2    small    med  unacc\n",
       "2  vhigh  vhigh     2       2    small   high  unacc\n",
       "3  vhigh  vhigh     2       2      med    low  unacc\n",
       "4  vhigh  vhigh     2       2      med    med  unacc"
      ]
     },
     "execution_count": 1,
     "metadata": {},
     "output_type": "execute_result"
    }
   ],
   "source": [
    "import pandas as pd\n",
    "\n",
    "col_names = ['buying', 'maint', 'doors', 'persons', 'lug_boot', 'safety', 'class']\n",
    "\n",
    "df = pd.read_csv('car_dataset/car.data', names=col_names)\n",
    "\n",
    "df.head()"
   ]
  },
  {
   "cell_type": "markdown",
   "id": "7b0b955d",
   "metadata": {},
   "source": [
    "# EDA\n",
    "\n",
    "Let's look into our data!"
   ]
  },
  {
   "cell_type": "code",
   "execution_count": 2,
   "id": "1213f05a",
   "metadata": {},
   "outputs": [
    {
     "name": "stdout",
     "output_type": "stream",
     "text": [
      "<class 'pandas.core.frame.DataFrame'>\n",
      "RangeIndex: 1728 entries, 0 to 1727\n",
      "Data columns (total 7 columns):\n",
      " #   Column    Non-Null Count  Dtype \n",
      "---  ------    --------------  ----- \n",
      " 0   buying    1728 non-null   object\n",
      " 1   maint     1728 non-null   object\n",
      " 2   doors     1728 non-null   object\n",
      " 3   persons   1728 non-null   object\n",
      " 4   lug_boot  1728 non-null   object\n",
      " 5   safety    1728 non-null   object\n",
      " 6   class     1728 non-null   object\n",
      "dtypes: object(7)\n",
      "memory usage: 94.6+ KB\n"
     ]
    }
   ],
   "source": [
    "df.info()"
   ]
  },
  {
   "cell_type": "code",
   "execution_count": 3,
   "id": "aeedad70",
   "metadata": {},
   "outputs": [
    {
     "data": {
      "text/html": [
       "<div>\n",
       "<style scoped>\n",
       "    .dataframe tbody tr th:only-of-type {\n",
       "        vertical-align: middle;\n",
       "    }\n",
       "\n",
       "    .dataframe tbody tr th {\n",
       "        vertical-align: top;\n",
       "    }\n",
       "\n",
       "    .dataframe thead th {\n",
       "        text-align: right;\n",
       "    }\n",
       "</style>\n",
       "<table border=\"1\" class=\"dataframe\">\n",
       "  <thead>\n",
       "    <tr style=\"text-align: right;\">\n",
       "      <th></th>\n",
       "      <th>buying</th>\n",
       "      <th>maint</th>\n",
       "      <th>doors</th>\n",
       "      <th>persons</th>\n",
       "      <th>lug_boot</th>\n",
       "      <th>safety</th>\n",
       "      <th>class</th>\n",
       "    </tr>\n",
       "  </thead>\n",
       "  <tbody>\n",
       "    <tr>\n",
       "      <th>count</th>\n",
       "      <td>1728</td>\n",
       "      <td>1728</td>\n",
       "      <td>1728</td>\n",
       "      <td>1728</td>\n",
       "      <td>1728</td>\n",
       "      <td>1728</td>\n",
       "      <td>1728</td>\n",
       "    </tr>\n",
       "    <tr>\n",
       "      <th>unique</th>\n",
       "      <td>4</td>\n",
       "      <td>4</td>\n",
       "      <td>4</td>\n",
       "      <td>3</td>\n",
       "      <td>3</td>\n",
       "      <td>3</td>\n",
       "      <td>4</td>\n",
       "    </tr>\n",
       "    <tr>\n",
       "      <th>top</th>\n",
       "      <td>vhigh</td>\n",
       "      <td>vhigh</td>\n",
       "      <td>2</td>\n",
       "      <td>2</td>\n",
       "      <td>small</td>\n",
       "      <td>low</td>\n",
       "      <td>unacc</td>\n",
       "    </tr>\n",
       "    <tr>\n",
       "      <th>freq</th>\n",
       "      <td>432</td>\n",
       "      <td>432</td>\n",
       "      <td>432</td>\n",
       "      <td>576</td>\n",
       "      <td>576</td>\n",
       "      <td>576</td>\n",
       "      <td>1210</td>\n",
       "    </tr>\n",
       "  </tbody>\n",
       "</table>\n",
       "</div>"
      ],
      "text/plain": [
       "       buying  maint doors persons lug_boot safety  class\n",
       "count    1728   1728  1728    1728     1728   1728   1728\n",
       "unique      4      4     4       3        3      3      4\n",
       "top     vhigh  vhigh     2       2    small    low  unacc\n",
       "freq      432    432   432     576      576    576   1210"
      ]
     },
     "execution_count": 3,
     "metadata": {},
     "output_type": "execute_result"
    }
   ],
   "source": [
    "df.describe()"
   ]
  },
  {
   "cell_type": "markdown",
   "id": "d5ad9e3b",
   "metadata": {},
   "source": [
    "# EDA Conclusion\n",
    "\n",
    "No missing or Nan values, great! \n",
    "\n",
    "## Insights:\n",
    "1. All columns are categorical\n",
    "2. Our target variable (buying) has 4 classes, which means we are tackling a multiclass classification problem"
   ]
  },
  {
   "cell_type": "code",
   "execution_count": 4,
   "id": "d60032d3",
   "metadata": {},
   "outputs": [
    {
     "data": {
      "text/html": [
       "<div>\n",
       "<style scoped>\n",
       "    .dataframe tbody tr th:only-of-type {\n",
       "        vertical-align: middle;\n",
       "    }\n",
       "\n",
       "    .dataframe tbody tr th {\n",
       "        vertical-align: top;\n",
       "    }\n",
       "\n",
       "    .dataframe thead th {\n",
       "        text-align: right;\n",
       "    }\n",
       "</style>\n",
       "<table border=\"1\" class=\"dataframe\">\n",
       "  <thead>\n",
       "    <tr style=\"text-align: right;\">\n",
       "      <th></th>\n",
       "      <th>maint</th>\n",
       "      <th>doors</th>\n",
       "      <th>persons</th>\n",
       "      <th>lug_boot</th>\n",
       "      <th>safety</th>\n",
       "      <th>class</th>\n",
       "    </tr>\n",
       "  </thead>\n",
       "  <tbody>\n",
       "    <tr>\n",
       "      <th>0</th>\n",
       "      <td>vhigh</td>\n",
       "      <td>2</td>\n",
       "      <td>2</td>\n",
       "      <td>small</td>\n",
       "      <td>low</td>\n",
       "      <td>unacc</td>\n",
       "    </tr>\n",
       "    <tr>\n",
       "      <th>1</th>\n",
       "      <td>vhigh</td>\n",
       "      <td>2</td>\n",
       "      <td>2</td>\n",
       "      <td>small</td>\n",
       "      <td>med</td>\n",
       "      <td>unacc</td>\n",
       "    </tr>\n",
       "    <tr>\n",
       "      <th>2</th>\n",
       "      <td>vhigh</td>\n",
       "      <td>2</td>\n",
       "      <td>2</td>\n",
       "      <td>small</td>\n",
       "      <td>high</td>\n",
       "      <td>unacc</td>\n",
       "    </tr>\n",
       "    <tr>\n",
       "      <th>3</th>\n",
       "      <td>vhigh</td>\n",
       "      <td>2</td>\n",
       "      <td>2</td>\n",
       "      <td>med</td>\n",
       "      <td>low</td>\n",
       "      <td>unacc</td>\n",
       "    </tr>\n",
       "    <tr>\n",
       "      <th>4</th>\n",
       "      <td>vhigh</td>\n",
       "      <td>2</td>\n",
       "      <td>2</td>\n",
       "      <td>med</td>\n",
       "      <td>med</td>\n",
       "      <td>unacc</td>\n",
       "    </tr>\n",
       "  </tbody>\n",
       "</table>\n",
       "</div>"
      ],
      "text/plain": [
       "   maint doors persons lug_boot safety  class\n",
       "0  vhigh     2       2    small    low  unacc\n",
       "1  vhigh     2       2    small    med  unacc\n",
       "2  vhigh     2       2    small   high  unacc\n",
       "3  vhigh     2       2      med    low  unacc\n",
       "4  vhigh     2       2      med    med  unacc"
      ]
     },
     "execution_count": 4,
     "metadata": {},
     "output_type": "execute_result"
    }
   ],
   "source": [
    "# Separate input and target columns\n",
    "cat_cols = df.columns[1:len(df.columns)]\n",
    "\n",
    "x = df[cat_cols]\n",
    "y = df['buying']\n",
    "\n",
    "x.head()"
   ]
  },
  {
   "cell_type": "code",
   "execution_count": 5,
   "id": "bd98104a",
   "metadata": {},
   "outputs": [
    {
     "data": {
      "text/plain": [
       "(1728, 6)"
      ]
     },
     "execution_count": 5,
     "metadata": {},
     "output_type": "execute_result"
    }
   ],
   "source": [
    "# Preprocess data\n",
    "from sklearn.compose import ColumnTransformer\n",
    "from sklearn.preprocessing import OneHotEncoder, LabelEncoder, OrdinalEncoder\n",
    "\n",
    "preprocess = ColumnTransformer(\n",
    "    transformers = [\n",
    "        ('categorical', OrdinalEncoder(), cat_cols)\n",
    "    ]\n",
    ")\n",
    "\n",
    "encoder = LabelEncoder()\n",
    "\n",
    "x = preprocess.fit_transform(x)\n",
    "y = encoder.fit_transform(y)\n",
    "\n",
    "x.shape"
   ]
  },
  {
   "cell_type": "code",
   "execution_count": 6,
   "id": "119fb972",
   "metadata": {},
   "outputs": [
    {
     "data": {
      "text/plain": [
       "array([[2., 1., 2., 1., 2., 0.],\n",
       "       [2., 0., 2., 1., 0., 0.],\n",
       "       [0., 2., 1., 2., 2., 0.],\n",
       "       ...,\n",
       "       [0., 0., 0., 0., 0., 2.],\n",
       "       [1., 1., 1., 1., 0., 0.],\n",
       "       [1., 3., 1., 0., 0., 0.]])"
      ]
     },
     "execution_count": 6,
     "metadata": {},
     "output_type": "execute_result"
    }
   ],
   "source": [
    "# Perform train-test split on dataset, stratify by target label to ensure same distribution in train and test sets\n",
    "from sklearn.model_selection import train_test_split\n",
    "\n",
    "x_train, x_test, y_train, y_test = train_test_split(x, y, test_size=0.2, stratify=y, random_state=88)\n",
    "\n",
    "x_train"
   ]
  },
  {
   "cell_type": "code",
   "execution_count": 7,
   "id": "2a8b6305",
   "metadata": {},
   "outputs": [],
   "source": [
    "# Function to run evaluation on all models\n",
    "from sklearn.metrics import classification_report\n",
    "\n",
    "def evaluate(train_predictions, y_train, test_predictions, y_test):\n",
    "    train_report = classification_report(train_predictions, y_train)\n",
    "    test_report = classification_report(test_predictions, y_test)\n",
    "    \n",
    "    print('Train:')\n",
    "    print(train_report)\n",
    "    \n",
    "    print('\\nTest')\n",
    "    print(test_report)\n"
   ]
  },
  {
   "cell_type": "code",
   "execution_count": 8,
   "id": "5ba6301c",
   "metadata": {},
   "outputs": [],
   "source": [
    "# Use gridsearch to find best hyperparameters\n",
    "from sklearn.model_selection import GridSearchCV\n",
    "\n",
    "def perform_gridsearch(estimator, params, x, y):\n",
    "    search = GridSearchCV(estimator=estimator, param_grid=params, cv=5, scoring='accuracy')\n",
    "    best = search.fit(x, y)\n",
    "    print('Best Model Params:')\n",
    "    print(best.best_estimator_)\n",
    "    print()\n",
    "    \n",
    "    return best.best_estimator_"
   ]
  },
  {
   "cell_type": "code",
   "execution_count": 9,
   "id": "24269c99",
   "metadata": {},
   "outputs": [
    {
     "name": "stdout",
     "output_type": "stream",
     "text": [
      "Best Model Params:\n",
      "SVC(C=0.3)\n",
      "\n",
      "Train:\n",
      "              precision    recall  f1-score   support\n",
      "\n",
      "           0       0.31      0.35      0.33       304\n",
      "           1       0.19      0.43      0.26       150\n",
      "           2       0.20      0.44      0.27       158\n",
      "           3       0.67      0.30      0.41       770\n",
      "\n",
      "    accuracy                           0.34      1382\n",
      "   macro avg       0.34      0.38      0.32      1382\n",
      "weighted avg       0.48      0.34      0.36      1382\n",
      "\n",
      "\n",
      "Test\n",
      "              precision    recall  f1-score   support\n",
      "\n",
      "           0       0.20      0.24      0.22        70\n",
      "           1       0.09      0.20      0.13        40\n",
      "           2       0.13      0.31      0.18        36\n",
      "           3       0.60      0.26      0.36       200\n",
      "\n",
      "    accuracy                           0.25       346\n",
      "   macro avg       0.25      0.25      0.22       346\n",
      "weighted avg       0.41      0.25      0.29       346\n",
      "\n"
     ]
    }
   ],
   "source": [
    "# SVM\n",
    "from sklearn import svm\n",
    "\n",
    "svm = svm.SVC()\n",
    "\n",
    "params = {\n",
    "    'C' : [0.1, 0.3, 0.5, 0.7, 0.9, 1.0],\n",
    "    'kernel' : ['linear', 'poly', 'rbf', 'sigmoid']\n",
    "}\n",
    "\n",
    "svm = perform_gridsearch(estimator=svm, params=params, x=x_train, y=y_train)\n",
    "\n",
    "train_predictions = svm.predict(x_train)\n",
    "test_predictions = svm.predict(x_test)\n",
    "\n",
    "evaluate(train_predictions, y_train, test_predictions, y_test)"
   ]
  },
  {
   "cell_type": "code",
   "execution_count": 10,
   "id": "ac8d2ed6",
   "metadata": {},
   "outputs": [
    {
     "name": "stdout",
     "output_type": "stream",
     "text": [
      "Best Model Params:\n",
      "KNeighborsClassifier(n_neighbors=18)\n",
      "\n",
      "Train:\n",
      "              precision    recall  f1-score   support\n",
      "\n",
      "           0       0.55      0.36      0.44       529\n",
      "           1       0.38      0.43      0.41       307\n",
      "           2       0.29      0.39      0.33       257\n",
      "           3       0.33      0.39      0.36       289\n",
      "\n",
      "    accuracy                           0.39      1382\n",
      "   macro avg       0.39      0.39      0.38      1382\n",
      "weighted avg       0.42      0.39      0.39      1382\n",
      "\n",
      "\n",
      "Test\n",
      "              precision    recall  f1-score   support\n",
      "\n",
      "           0       0.30      0.18      0.23       142\n",
      "           1       0.20      0.22      0.21        76\n",
      "           2       0.08      0.12      0.10        58\n",
      "           3       0.18      0.23      0.20        70\n",
      "\n",
      "    accuracy                           0.19       346\n",
      "   macro avg       0.19      0.19      0.18       346\n",
      "weighted avg       0.22      0.19      0.20       346\n",
      "\n"
     ]
    }
   ],
   "source": [
    "# KNN\n",
    "from sklearn.neighbors import KNeighborsClassifier\n",
    "\n",
    "params = {\n",
    "    'n_neighbors' : [x for x in range(4, 20, 2)],\n",
    "    'weights' : ['uniform', 'distance']\n",
    "}\n",
    "\n",
    "knn = KNeighborsClassifier()\n",
    "\n",
    "knn = perform_gridsearch(estimator=knn, params=params, x=x_train, y=y_train)\n",
    "\n",
    "train_predictions = knn.predict(x_train)\n",
    "test_predictions = knn.predict(x_test)\n",
    "\n",
    "evaluate(train_predictions, y_train, test_predictions, y_test)"
   ]
  },
  {
   "cell_type": "code",
   "execution_count": 11,
   "id": "479e0b30",
   "metadata": {},
   "outputs": [
    {
     "name": "stdout",
     "output_type": "stream",
     "text": [
      "Best Model Params:\n",
      "DecisionTreeClassifier(max_depth=4, min_samples_leaf=18, random_state=88)\n",
      "\n",
      "Train:\n",
      "              precision    recall  f1-score   support\n",
      "\n",
      "           0       0.27      0.36      0.31       253\n",
      "           1       0.23      0.46      0.30       171\n",
      "           2       0.42      0.32      0.36       454\n",
      "           3       0.49      0.34      0.40       504\n",
      "\n",
      "    accuracy                           0.35      1382\n",
      "   macro avg       0.35      0.37      0.34      1382\n",
      "weighted avg       0.40      0.35      0.36      1382\n",
      "\n",
      "\n",
      "Test\n",
      "              precision    recall  f1-score   support\n",
      "\n",
      "           0       0.18      0.27      0.22        59\n",
      "           1       0.08      0.20      0.12        35\n",
      "           2       0.40      0.28      0.33       122\n",
      "           3       0.53      0.35      0.42       130\n",
      "\n",
      "    accuracy                           0.30       346\n",
      "   macro avg       0.30      0.28      0.27       346\n",
      "weighted avg       0.38      0.30      0.32       346\n",
      "\n"
     ]
    }
   ],
   "source": [
    "# Decision Tree\n",
    "from sklearn.tree import DecisionTreeClassifier\n",
    "\n",
    "dt = DecisionTreeClassifier(random_state=88)\n",
    "\n",
    "params = {\n",
    "    'criterion' : ['gini', 'entropy'],\n",
    "    'max_depth' : [x for x in range(2, 20, 2)],\n",
    "    'min_samples_leaf' : [x for x in range(2, 20, 2)]\n",
    "}\n",
    "\n",
    "dt = perform_gridsearch(estimator=dt, params=params, x=x_train, y=y_train)\n",
    "\n",
    "train_predictions = dt.predict(x_train)\n",
    "test_predictions = dt.predict(x_test)\n",
    "\n",
    "evaluate(train_predictions, y_train, test_predictions, y_test)"
   ]
  },
  {
   "cell_type": "code",
   "execution_count": 12,
   "id": "8e75ca91",
   "metadata": {},
   "outputs": [
    {
     "name": "stdout",
     "output_type": "stream",
     "text": [
      "Best Model Params:\n",
      "RandomForestClassifier(max_depth=2, min_samples_leaf=12, n_estimators=120,\n",
      "                       random_state=88)\n",
      "\n",
      "Train:\n",
      "              precision    recall  f1-score   support\n",
      "\n",
      "           0       0.28      0.35      0.31       273\n",
      "           1       0.17      0.54      0.26       108\n",
      "           2       0.19      0.38      0.25       169\n",
      "           3       0.72      0.30      0.42       832\n",
      "\n",
      "    accuracy                           0.34      1382\n",
      "   macro avg       0.34      0.39      0.31      1382\n",
      "weighted avg       0.52      0.34      0.37      1382\n",
      "\n",
      "\n",
      "Test\n",
      "              precision    recall  f1-score   support\n",
      "\n",
      "           0       0.13      0.17      0.14        66\n",
      "           1       0.15      0.39      0.22        33\n",
      "           2       0.10      0.24      0.15        38\n",
      "           3       0.61      0.25      0.36       209\n",
      "\n",
      "    accuracy                           0.25       346\n",
      "   macro avg       0.25      0.26      0.22       346\n",
      "weighted avg       0.42      0.25      0.28       346\n",
      "\n"
     ]
    }
   ],
   "source": [
    "# Random Forest - warning, this cell takes really long to run =D\n",
    "from sklearn.ensemble import RandomForestClassifier\n",
    "\n",
    "rf = RandomForestClassifier(random_state=88)\n",
    "\n",
    "params = {\n",
    "    'n_estimators' : [x for x in range(100, 200, 10)],\n",
    "    'criterion' : ['gini', 'entropy'],\n",
    "    'max_depth' : [x for x in range(2, 10, 2)],\n",
    "    'min_samples_leaf' : [x for x in range(2, 20, 2)]\n",
    "}\n",
    "\n",
    "rf = perform_gridsearch(estimator=rf, params=params, x=x_train, y=y_train)\n",
    "\n",
    "train_predictions = rf.predict(x_train)\n",
    "test_predictions = rf.predict(x_test)\n",
    "\n",
    "evaluate(train_predictions, y_train, test_predictions, y_test)"
   ]
  },
  {
   "cell_type": "markdown",
   "id": "7069e573",
   "metadata": {},
   "source": [
    "# Modeling Conclusion\n",
    "\n",
    "Most models achieved between 30-40% on train accuracy and between 19-30% on test accuracy\n",
    "\n",
    "I would pick to deploy the Decision Tree model as it achieved the best test results, showing signs that it is not overfitted on the train set"
   ]
  },
  {
   "cell_type": "markdown",
   "id": "c63d4438",
   "metadata": {},
   "source": [
    "# Prediction on custom input values\n",
    "1. Maintenance = High\n",
    "2. Number of doors = 4\n",
    "3. Lug Boot Size = Big\n",
    "4. Safety = High\n",
    "5. Class Value = Good"
   ]
  },
  {
   "cell_type": "code",
   "execution_count": 13,
   "id": "061b69aa",
   "metadata": {},
   "outputs": [
    {
     "data": {
      "text/html": [
       "<div>\n",
       "<style scoped>\n",
       "    .dataframe tbody tr th:only-of-type {\n",
       "        vertical-align: middle;\n",
       "    }\n",
       "\n",
       "    .dataframe tbody tr th {\n",
       "        vertical-align: top;\n",
       "    }\n",
       "\n",
       "    .dataframe thead th {\n",
       "        text-align: right;\n",
       "    }\n",
       "</style>\n",
       "<table border=\"1\" class=\"dataframe\">\n",
       "  <thead>\n",
       "    <tr style=\"text-align: right;\">\n",
       "      <th></th>\n",
       "      <th>maint</th>\n",
       "      <th>doors</th>\n",
       "      <th>persons</th>\n",
       "      <th>lug_boot</th>\n",
       "      <th>safety</th>\n",
       "      <th>class</th>\n",
       "    </tr>\n",
       "  </thead>\n",
       "  <tbody>\n",
       "    <tr>\n",
       "      <th>0</th>\n",
       "      <td>high</td>\n",
       "      <td>4</td>\n",
       "      <td>2</td>\n",
       "      <td>big</td>\n",
       "      <td>high</td>\n",
       "      <td>good</td>\n",
       "    </tr>\n",
       "  </tbody>\n",
       "</table>\n",
       "</div>"
      ],
      "text/plain": [
       "  maint doors persons lug_boot safety class\n",
       "0  high     4       2      big   high  good"
      ]
     },
     "execution_count": 13,
     "metadata": {},
     "output_type": "execute_result"
    }
   ],
   "source": [
    "# Create custom input, noted that persons column value is not given, we fill Nan value with the mode=2\n",
    "x = pd.DataFrame(\n",
    "    [['high', '4', '2', 'big', 'high', 'good']], \n",
    "    columns=col_names[1:]\n",
    ")\n",
    "\n",
    "x"
   ]
  },
  {
   "cell_type": "code",
   "execution_count": 14,
   "id": "6d2a773d",
   "metadata": {},
   "outputs": [
    {
     "data": {
      "text/plain": [
       "array(['med'], dtype=object)"
      ]
     },
     "execution_count": 14,
     "metadata": {},
     "output_type": "execute_result"
    }
   ],
   "source": [
    "# Let's predict using our best model!\n",
    "x = preprocess.transform(x)\n",
    "result = dt.predict(x)\n",
    "result = encoder.inverse_transform(result)\n",
    "\n",
    "result"
   ]
  },
  {
   "cell_type": "markdown",
   "id": "5a4f61f3",
   "metadata": {},
   "source": [
    "# Prediction results\n",
    "\n",
    "The buy price is med based on the prediction from the decision tree model!"
   ]
  }
 ],
 "metadata": {
  "kernelspec": {
   "display_name": "Python 3 (ipykernel)",
   "language": "python",
   "name": "python3"
  },
  "language_info": {
   "codemirror_mode": {
    "name": "ipython",
    "version": 3
   },
   "file_extension": ".py",
   "mimetype": "text/x-python",
   "name": "python",
   "nbconvert_exporter": "python",
   "pygments_lexer": "ipython3",
   "version": "3.7.11"
  }
 },
 "nbformat": 4,
 "nbformat_minor": 5
}
